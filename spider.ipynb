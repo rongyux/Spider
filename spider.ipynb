{
 "cells": [
  {
   "cell_type": "code",
   "execution_count": 26,
   "metadata": {
    "collapsed": false
   },
   "outputs": [],
   "source": [
    "import requests\n",
    "from bs4 import BeautifulSoup\n",
    "import re\n",
    "import json\n",
    "import time\n",
    "\n",
    "headers = {\n",
    "'Accept': 'text/html,application/xhtml+xml,application/xml;q=0.9,*/*;q=0.8',\n",
    "'Accept-Language': 'zh-CN,zh;q=0.8,en-US;q=0.5,en;q=0.3',\n",
    "'Accept-Encoding': 'gzip, deflate, br',\n",
    "'Connection': 'keep-alive',\n",
    "'Cookie': '__cfduid=d653bf931cbde10f9243b63e991f70dc41466778585; loid=a5WUnHRHlleKL9OSSR; loidcreated=2016-06-24T14%3A29%3A45.413Z; _recent_srs=t5_2qu49; _ga=GA1.2.54465388.1466778724; pc=ne; __utma=55650728.54465388.1466778724.1466778728.1466843492.2; __utmz=55650728.1466778728.1.1.utmcsr=(direct)|utmccn=(direct)|utmcmd=(none); __utmb=55650728.0.10.1466843492; __utmc=55650728',\n",
    "'Host': 'www.reddit.com',\n",
    "'User-Agent': 'Mozilla/5.0 (Windows NT 10.0; WOW64; rv:47.0) Gecko/20100101 Firefox/47.0',\n",
    "}\n",
    "# url = 'https://www.reddit.com/r/AskReddit/comments/4qfh55/what_are_some_of_the_best_life_tips/'\n",
    "# url = 'https://www.reddit.com/r/community/comments/2fchpz/what_ever_happened_to_the_deans_dalmatian_fetish/'\n",
    "url = 'https://www.reddit.com/r/AskReddit/comments/4qfh01/what_are_some_classes_you_must_take_in/'\n",
    "\n",
    "r = requests.get(url,headers=headers)\n",
    "r.encoding = r.apparent_encoding\n",
    "# print r.text\n"
   ]
  },
  {
   "cell_type": "code",
   "execution_count": 32,
   "metadata": {
    "collapsed": false
   },
   "outputs": [
    {
     "name": "stdout",
     "output_type": "stream",
     "text": [
      "[[<p>Sexual education classes that provide technique </p>, u'\\n'], [<p>I wish</p>, u'\\n'], [<p>Most colleges have required courses that you need to take depending on your major or other various factors. </p>, u'\\n'], [<p>It differs between colleges, some of my friends go to different school and they have to take classes ive never heard of. Also depends on the major of the student</p>, u'\\n'], [<p>It depends on the institution and your major. Typically in my state an english, math, gender studies, and history class is all needed. Also a basic science course. We are also now mandated to take an online course in sexual assault and consent and I am interested to see how that plays out</p>, u'\\n'], [<p>Underwater Basket Weaving 101</p>, u'\\n'], [<p>No matter what your major is, you should try to take a personal finance class. It teaches you really valuable skills that translate across majors, like the basics of investing your income and saving for retirement.</p>, u'\\n']]\n",
      "Sexual education classes that provide technique \n",
      "I wish\n",
      "Most colleges have required courses that you need to take depending on your major or other various factors. \n",
      "It differs between colleges, some of my friends go to different school and they have to take classes ive never heard of. Also depends on the major of the student\n",
      "It depends on the institution and your major. Typically in my state an english, math, gender studies, and history class is all needed. Also a basic science course. We are also now mandated to take an online course in sexual assault and consent and I am interested to see how that plays out\n",
      "Underwater Basket Weaving 101\n",
      "No matter what your major is, you should try to take a personal finance class. It teaches you really valuable skills that translate across majors, like the basics of investing your income and saving for retirement.\n"
     ]
    }
   ],
   "source": [
    "# div class=\"md\"\n",
    "\n",
    "soup = BeautifulSoup(r.text)\n",
    "res = soup.select(\"div.md\")\n",
    "comments = []\n",
    "for item1 in res[1:]:\n",
    "    comments.append(item1.contents)\n",
    "print comments\n",
    "\n",
    "fd = open('comments.txt','w+')\n",
    "\n",
    "p_soup = BeautifulSoup(str(comments))\n",
    "res2 = p_soup.findAll('p')\n",
    "for item2 in res2:\n",
    "    ct = str(item2.contents).encode('utf-8')\n",
    "    print ct[3:-2]\n",
    "    fd.write(ct[3:-2] + '\\n')\n",
    "\n",
    "fd.close()"
   ]
  },
  {
   "cell_type": "code",
   "execution_count": null,
   "metadata": {
    "collapsed": true
   },
   "outputs": [],
   "source": []
  },
  {
   "cell_type": "code",
   "execution_count": null,
   "metadata": {
    "collapsed": true
   },
   "outputs": [],
   "source": []
  }
 ],
 "metadata": {
  "kernelspec": {
   "display_name": "Python 2",
   "language": "python",
   "name": "python2"
  },
  "language_info": {
   "codemirror_mode": {
    "name": "ipython",
    "version": 2
   },
   "file_extension": ".py",
   "mimetype": "text/x-python",
   "name": "python",
   "nbconvert_exporter": "python",
   "pygments_lexer": "ipython2",
   "version": "2.7.11"
  }
 },
 "nbformat": 4,
 "nbformat_minor": 0
}
